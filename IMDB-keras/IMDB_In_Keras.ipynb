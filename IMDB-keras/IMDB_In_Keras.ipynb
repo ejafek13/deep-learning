{
 "cells": [
  {
   "cell_type": "markdown",
   "metadata": {},
   "source": [
    "# Analyzing IMDB Data in Keras"
   ]
  },
  {
   "cell_type": "code",
   "execution_count": 1,
   "metadata": {
    "ExecuteTime": {
     "end_time": "2020-05-11T20:42:48.447019Z",
     "start_time": "2020-05-11T20:42:45.830584Z"
    }
   },
   "outputs": [
    {
     "name": "stderr",
     "output_type": "stream",
     "text": [
      "Using TensorFlow backend.\n"
     ]
    }
   ],
   "source": [
    "# Imports\n",
    "import numpy as np\n",
    "import keras\n",
    "from keras.datasets import imdb\n",
    "from keras.models import Sequential\n",
    "from keras.layers import Dense, Dropout, Activation\n",
    "from keras.preprocessing.text import Tokenizer\n",
    "import matplotlib.pyplot as plt\n",
    "%matplotlib inline\n",
    "\n",
    "np.random.seed(42)"
   ]
  },
  {
   "cell_type": "markdown",
   "metadata": {},
   "source": [
    "## 1. Loading the data\n",
    "This dataset comes preloaded with Keras, so one simple command will get us training and testing data. There is a parameter for how many words we want to look at. We've set it at 1000, but feel free to experiment."
   ]
  },
  {
   "cell_type": "code",
   "execution_count": 2,
   "metadata": {
    "ExecuteTime": {
     "end_time": "2020-05-11T20:42:52.709177Z",
     "start_time": "2020-05-11T20:42:48.449040Z"
    }
   },
   "outputs": [
    {
     "name": "stdout",
     "output_type": "stream",
     "text": [
      "(25000,)\n",
      "(25000,)\n"
     ]
    }
   ],
   "source": [
    "# Loading the data (it's preloaded in Keras)\n",
    "(x_train, y_train), (x_test, y_test) = imdb.load_data(num_words=1000)\n",
    "\n",
    "print(x_train.shape)\n",
    "print(x_test.shape)"
   ]
  },
  {
   "cell_type": "markdown",
   "metadata": {},
   "source": [
    "## 2. Examining the data\n",
    "Notice that the data has been already pre-processed, where all the words have numbers, and the reviews come in as a vector with the words that the review contains. For example, if the word 'the' is the first one in our dictionary, and a review contains the word 'the', then there is a 1 in the corresponding vector.\n",
    "\n",
    "The output comes as a vector of 1's and 0's, where 1 is a positive sentiment for the review, and 0 is negative."
   ]
  },
  {
   "cell_type": "code",
   "execution_count": 3,
   "metadata": {
    "ExecuteTime": {
     "end_time": "2020-05-11T20:42:52.715598Z",
     "start_time": "2020-05-11T20:42:52.712350Z"
    }
   },
   "outputs": [
    {
     "name": "stdout",
     "output_type": "stream",
     "text": [
      "[1, 14, 22, 16, 43, 530, 973, 2, 2, 65, 458, 2, 66, 2, 4, 173, 36, 256, 5, 25, 100, 43, 838, 112, 50, 670, 2, 9, 35, 480, 284, 5, 150, 4, 172, 112, 167, 2, 336, 385, 39, 4, 172, 2, 2, 17, 546, 38, 13, 447, 4, 192, 50, 16, 6, 147, 2, 19, 14, 22, 4, 2, 2, 469, 4, 22, 71, 87, 12, 16, 43, 530, 38, 76, 15, 13, 2, 4, 22, 17, 515, 17, 12, 16, 626, 18, 2, 5, 62, 386, 12, 8, 316, 8, 106, 5, 4, 2, 2, 16, 480, 66, 2, 33, 4, 130, 12, 16, 38, 619, 5, 25, 124, 51, 36, 135, 48, 25, 2, 33, 6, 22, 12, 215, 28, 77, 52, 5, 14, 407, 16, 82, 2, 8, 4, 107, 117, 2, 15, 256, 4, 2, 7, 2, 5, 723, 36, 71, 43, 530, 476, 26, 400, 317, 46, 7, 4, 2, 2, 13, 104, 88, 4, 381, 15, 297, 98, 32, 2, 56, 26, 141, 6, 194, 2, 18, 4, 226, 22, 21, 134, 476, 26, 480, 5, 144, 30, 2, 18, 51, 36, 28, 224, 92, 25, 104, 4, 226, 65, 16, 38, 2, 88, 12, 16, 283, 5, 16, 2, 113, 103, 32, 15, 16, 2, 19, 178, 32]\n",
      "1\n"
     ]
    }
   ],
   "source": [
    "print(x_train[0])\n",
    "print(y_train[0])"
   ]
  },
  {
   "cell_type": "markdown",
   "metadata": {},
   "source": [
    "## 3. One-hot encoding the output\n",
    "Here, we'll turn the input vectors into (0,1)-vectors. For example, if the pre-processed vector contains the number 14, then in the processed vector, the 14th entry will be 1."
   ]
  },
  {
   "cell_type": "code",
   "execution_count": 4,
   "metadata": {
    "ExecuteTime": {
     "end_time": "2020-05-11T20:42:56.031523Z",
     "start_time": "2020-05-11T20:42:52.718878Z"
    }
   },
   "outputs": [
    {
     "name": "stdout",
     "output_type": "stream",
     "text": [
      "[0. 1. 1. 0. 1. 1. 1. 1. 1. 1. 0. 0. 1. 1. 1. 1. 1. 1. 1. 1. 0. 1. 1. 0.\n",
      " 0. 1. 1. 0. 1. 0. 1. 0. 1. 1. 0. 1. 1. 0. 1. 1. 0. 0. 0. 1. 0. 0. 1. 0.\n",
      " 1. 0. 1. 1. 1. 0. 0. 0. 1. 0. 0. 0. 0. 0. 1. 0. 0. 1. 1. 0. 0. 0. 0. 1.\n",
      " 0. 0. 0. 0. 1. 1. 0. 0. 0. 0. 1. 0. 0. 0. 0. 1. 1. 0. 0. 0. 1. 0. 0. 0.\n",
      " 0. 0. 1. 0. 1. 0. 0. 1. 1. 0. 1. 1. 0. 0. 0. 0. 1. 1. 0. 0. 0. 1. 0. 0.\n",
      " 0. 0. 0. 0. 1. 0. 0. 0. 0. 0. 1. 0. 0. 0. 1. 1. 0. 0. 0. 0. 0. 1. 0. 0.\n",
      " 1. 0. 0. 1. 0. 0. 1. 0. 0. 0. 0. 0. 0. 0. 0. 0. 0. 0. 0. 0. 0. 0. 0. 1.\n",
      " 0. 0. 0. 0. 1. 1. 0. 0. 0. 0. 1. 0. 0. 0. 0. 0. 0. 0. 0. 0. 0. 0. 0. 0.\n",
      " 1. 0. 1. 0. 0. 0. 0. 0. 0. 0. 0. 0. 0. 0. 0. 0. 0. 0. 0. 0. 0. 0. 0. 1.\n",
      " 0. 0. 0. 0. 0. 0. 0. 0. 1. 0. 1. 0. 0. 0. 0. 0. 0. 0. 0. 0. 0. 0. 0. 0.\n",
      " 0. 0. 0. 0. 0. 0. 0. 0. 0. 0. 0. 0. 0. 0. 0. 0. 1. 0. 0. 0. 0. 0. 0. 0.\n",
      " 0. 0. 0. 0. 0. 0. 0. 0. 0. 0. 0. 0. 0. 0. 0. 0. 0. 0. 0. 1. 1. 0. 0. 0.\n",
      " 0. 0. 0. 0. 0. 0. 0. 0. 0. 1. 0. 0. 0. 0. 0. 0. 0. 0. 0. 0. 0. 0. 0. 0.\n",
      " 0. 0. 0. 0. 1. 1. 0. 0. 0. 0. 0. 0. 0. 0. 0. 0. 0. 0. 0. 0. 0. 0. 0. 0.\n",
      " 1. 0. 0. 0. 0. 0. 0. 0. 0. 0. 0. 0. 0. 0. 0. 0. 0. 0. 0. 0. 0. 0. 0. 0.\n",
      " 0. 0. 0. 0. 0. 0. 0. 0. 0. 0. 0. 0. 0. 0. 0. 0. 0. 0. 0. 0. 0. 1. 0. 0.\n",
      " 0. 1. 1. 0. 0. 0. 0. 0. 0. 0. 0. 0. 0. 0. 0. 0. 1. 0. 0. 0. 0. 0. 0. 1.\n",
      " 0. 0. 0. 0. 0. 0. 0. 0. 0. 0. 0. 0. 0. 0. 0. 0. 0. 0. 0. 0. 0. 0. 0. 0.\n",
      " 0. 0. 0. 0. 0. 0. 0. 0. 0. 0. 0. 0. 0. 0. 0. 1. 0. 0. 0. 0. 0. 0. 0. 0.\n",
      " 0. 0. 1. 0. 0. 0. 0. 0. 0. 0. 0. 0. 0. 1. 0. 0. 0. 0. 0. 0. 1. 0. 0. 0.\n",
      " 1. 0. 0. 0. 0. 0. 0. 0. 0. 0. 0. 0. 0. 0. 0. 0. 0. 0. 0. 0. 0. 0. 0. 0.\n",
      " 0. 0. 0. 0. 0. 0. 0. 0. 0. 0. 0. 1. 0. 0. 0. 0. 0. 0. 0. 0. 0. 0. 0. 0.\n",
      " 0. 0. 1. 0. 0. 0. 0. 0. 0. 0. 0. 0. 0. 0. 0. 0. 0. 0. 1. 0. 0. 0. 0. 0.\n",
      " 0. 0. 0. 0. 0. 0. 0. 0. 0. 0. 0. 0. 0. 0. 0. 0. 0. 0. 0. 0. 0. 0. 0. 0.\n",
      " 0. 0. 0. 0. 0. 0. 0. 0. 0. 0. 0. 0. 0. 0. 0. 0. 0. 0. 0. 0. 0. 0. 0. 0.\n",
      " 0. 0. 0. 0. 0. 0. 0. 0. 0. 0. 0. 0. 0. 0. 0. 0. 0. 0. 0. 1. 0. 0. 0. 0.\n",
      " 0. 0. 1. 0. 0. 0. 0. 0. 0. 0. 0. 0. 0. 0. 0. 0. 0. 0. 0. 0. 0. 0. 0. 0.\n",
      " 0. 0. 0. 0. 0. 0. 0. 0. 0. 0. 0. 0. 0. 0. 0. 0. 0. 0. 0. 0. 0. 0. 1. 0.\n",
      " 0. 0. 0. 0. 0. 0. 0. 0. 0. 0. 0. 0. 0. 0. 0. 0. 0. 0. 0. 0. 0. 0. 0. 0.\n",
      " 0. 0. 0. 0. 0. 0. 0. 0. 0. 0. 0. 0. 0. 0. 0. 0. 0. 0. 0. 0. 0. 0. 0. 0.\n",
      " 0. 0. 0. 1. 0. 0. 0. 0. 0. 0. 0. 0. 0. 0. 0. 0. 0. 0. 0. 0. 0. 0. 0. 0.\n",
      " 0. 0. 0. 0. 0. 0. 0. 0. 0. 0. 0. 0. 0. 0. 0. 0. 0. 0. 0. 0. 0. 0. 0. 0.\n",
      " 0. 0. 0. 0. 0. 0. 0. 0. 0. 0. 0. 0. 0. 0. 0. 0. 0. 0. 0. 0. 0. 0. 0. 0.\n",
      " 0. 0. 0. 0. 0. 0. 0. 0. 0. 0. 0. 0. 0. 0. 0. 0. 0. 0. 0. 0. 0. 0. 0. 0.\n",
      " 0. 0. 0. 0. 0. 0. 0. 0. 0. 0. 0. 0. 0. 0. 0. 0. 0. 0. 0. 0. 0. 0. 1. 0.\n",
      " 0. 0. 0. 0. 0. 0. 0. 0. 0. 0. 0. 0. 0. 0. 0. 0. 0. 0. 0. 0. 0. 0. 0. 0.\n",
      " 0. 0. 0. 0. 0. 0. 0. 0. 0. 0. 0. 0. 0. 0. 0. 0. 0. 0. 0. 0. 0. 0. 0. 0.\n",
      " 0. 0. 0. 0. 0. 0. 0. 0. 0. 0. 0. 0. 0. 0. 0. 0. 0. 0. 0. 0. 0. 0. 0. 0.\n",
      " 0. 0. 0. 0. 0. 0. 0. 0. 0. 0. 0. 0. 0. 0. 0. 0. 0. 0. 0. 0. 0. 0. 0. 0.\n",
      " 0. 0. 0. 0. 0. 0. 0. 0. 0. 0. 0. 0. 0. 0. 0. 0. 0. 0. 0. 0. 0. 0. 0. 0.\n",
      " 0. 0. 0. 0. 0. 0. 0. 0. 0. 0. 0. 0. 0. 1. 0. 0. 0. 0. 0. 0. 0. 0. 0. 0.\n",
      " 0. 0. 0. 0. 0. 0. 0. 0. 0. 0. 0. 0. 0. 0. 0. 0.]\n"
     ]
    }
   ],
   "source": [
    "# One-hot encoding the output into vector mode, each of length 1000\n",
    "tokenizer = Tokenizer(num_words=1000)\n",
    "x_train = tokenizer.sequences_to_matrix(x_train, mode='binary')\n",
    "x_test = tokenizer.sequences_to_matrix(x_test, mode='binary')\n",
    "print(x_train[0])"
   ]
  },
  {
   "cell_type": "code",
   "execution_count": 19,
   "metadata": {
    "ExecuteTime": {
     "end_time": "2020-05-11T21:29:40.571262Z",
     "start_time": "2020-05-11T21:29:40.545739Z"
    }
   },
   "outputs": [
    {
     "ename": "AttributeError",
     "evalue": "'numpy.ndarray' object has no attribute 'shaoe'",
     "output_type": "error",
     "traceback": [
      "\u001b[0;31m---------------------------------------------------------------------------\u001b[0m",
      "\u001b[0;31mAttributeError\u001b[0m                            Traceback (most recent call last)",
      "\u001b[0;32m<ipython-input-19-764107c19a1d>\u001b[0m in \u001b[0;36m<module>\u001b[0;34m\u001b[0m\n\u001b[0;32m----> 1\u001b[0;31m \u001b[0mx_train\u001b[0m\u001b[0;34m.\u001b[0m\u001b[0mshaoe\u001b[0m\u001b[0;34m\u001b[0m\u001b[0;34m\u001b[0m\u001b[0m\n\u001b[0m",
      "\u001b[0;31mAttributeError\u001b[0m: 'numpy.ndarray' object has no attribute 'shaoe'"
     ]
    }
   ],
   "source": [
    "x_train.shape()"
   ]
  },
  {
   "cell_type": "markdown",
   "metadata": {},
   "source": [
    "And we'll also one-hot encode the output."
   ]
  },
  {
   "cell_type": "code",
   "execution_count": 5,
   "metadata": {
    "ExecuteTime": {
     "end_time": "2020-05-11T20:42:56.037181Z",
     "start_time": "2020-05-11T20:42:56.033176Z"
    }
   },
   "outputs": [
    {
     "name": "stdout",
     "output_type": "stream",
     "text": [
      "(25000, 2)\n",
      "(25000, 2)\n"
     ]
    }
   ],
   "source": [
    "# One-hot encoding the output\n",
    "num_classes = 2\n",
    "y_train = keras.utils.to_categorical(y_train, num_classes)\n",
    "y_test = keras.utils.to_categorical(y_test, num_classes)\n",
    "print(y_train.shape)\n",
    "print(y_test.shape)"
   ]
  },
  {
   "cell_type": "markdown",
   "metadata": {},
   "source": [
    "## 4. Building the  model architecture\n",
    "Build a model here using sequential. Feel free to experiment with different layers and sizes! Also, experiment adding dropout to reduce overfitting."
   ]
  },
  {
   "cell_type": "code",
   "execution_count": 31,
   "metadata": {
    "ExecuteTime": {
     "end_time": "2020-05-11T21:50:26.497192Z",
     "start_time": "2020-05-11T21:50:26.230055Z"
    }
   },
   "outputs": [],
   "source": [
    "# TODO: Build the model architecture\n",
    "model = Sequential()\n",
    "model.add(Dense(112, input_dim = x_train.shape[1]))\n",
    "model.add(Activation(\"relu\"))\n",
    "model.add(Dropout(.2))\n",
    "\n",
    "model.add(Dense(56))\n",
    "model.add(Activation(\"relu\"))\n",
    "model.add(Dropout(.1))\n",
    "\n",
    "# model.add(Dense(16))\n",
    "# model.add(Activation(\"relu\"))\n",
    "# model.add(Dropout(.2))\n",
    "\n",
    "model.add(Dense(2))\n",
    "model.add(Activation(\"sigmoid\"))\n",
    "\n",
    "# TODO: Compile the model using a loss function and an optimizer.\n",
    "model.compile(loss = \"binary_crossentropy\", optimizer = \"adam\", metrics = ['accuracy'])"
   ]
  },
  {
   "cell_type": "code",
   "execution_count": 32,
   "metadata": {
    "ExecuteTime": {
     "end_time": "2020-05-11T21:50:27.088768Z",
     "start_time": "2020-05-11T21:50:27.084646Z"
    }
   },
   "outputs": [
    {
     "name": "stdout",
     "output_type": "stream",
     "text": [
      "Model: \"sequential_8\"\n",
      "_________________________________________________________________\n",
      "Layer (type)                 Output Shape              Param #   \n",
      "=================================================================\n",
      "dense_21 (Dense)             (None, 112)               112112    \n",
      "_________________________________________________________________\n",
      "activation_21 (Activation)   (None, 112)               0         \n",
      "_________________________________________________________________\n",
      "dropout_8 (Dropout)          (None, 112)               0         \n",
      "_________________________________________________________________\n",
      "dense_22 (Dense)             (None, 56)                6328      \n",
      "_________________________________________________________________\n",
      "activation_22 (Activation)   (None, 56)                0         \n",
      "_________________________________________________________________\n",
      "dropout_9 (Dropout)          (None, 56)                0         \n",
      "_________________________________________________________________\n",
      "dense_23 (Dense)             (None, 2)                 114       \n",
      "_________________________________________________________________\n",
      "activation_23 (Activation)   (None, 2)                 0         \n",
      "=================================================================\n",
      "Total params: 118,554\n",
      "Trainable params: 118,554\n",
      "Non-trainable params: 0\n",
      "_________________________________________________________________\n"
     ]
    }
   ],
   "source": [
    "model.summary()"
   ]
  },
  {
   "cell_type": "markdown",
   "metadata": {},
   "source": [
    "## 5. Training the model\n",
    "Run the model here. Experiment with different batch_size, and number of epochs!"
   ]
  },
  {
   "cell_type": "code",
   "execution_count": 33,
   "metadata": {
    "ExecuteTime": {
     "end_time": "2020-05-11T21:54:54.748353Z",
     "start_time": "2020-05-11T21:50:28.756091Z"
    }
   },
   "outputs": [
    {
     "name": "stderr",
     "output_type": "stream",
     "text": [
      "/opt/anaconda3/lib/python3.7/site-packages/ipykernel_launcher.py:2: UserWarning: The `nb_epoch` argument in `fit` has been renamed `epochs`.\n",
      "  \n"
     ]
    },
    {
     "name": "stdout",
     "output_type": "stream",
     "text": [
      "Epoch 1/50\n",
      "25000/25000 [==============================] - 6s 235us/step - loss: 0.3888 - accuracy: 0.8265\n",
      "Epoch 2/50\n",
      "25000/25000 [==============================] - 5s 200us/step - loss: 0.3086 - accuracy: 0.8697\n",
      "Epoch 3/50\n",
      "25000/25000 [==============================] - 5s 200us/step - loss: 0.2709 - accuracy: 0.8901\n",
      "Epoch 4/50\n",
      "25000/25000 [==============================] - 5s 202us/step - loss: 0.2174 - accuracy: 0.9145\n",
      "Epoch 5/50\n",
      "25000/25000 [==============================] - 5s 207us/step - loss: 0.1510 - accuracy: 0.9439\n",
      "Epoch 6/50\n",
      "25000/25000 [==============================] - 5s 200us/step - loss: 0.1048 - accuracy: 0.9629\n",
      "Epoch 7/50\n",
      "25000/25000 [==============================] - 5s 210us/step - loss: 0.0728 - accuracy: 0.9734\n",
      "Epoch 8/50\n",
      "25000/25000 [==============================] - 5s 206us/step - loss: 0.0604 - accuracy: 0.9781\n",
      "Epoch 9/50\n",
      "25000/25000 [==============================] - 5s 208us/step - loss: 0.0503 - accuracy: 0.9818\n",
      "Epoch 10/50\n",
      "25000/25000 [==============================] - 5s 207us/step - loss: 0.0448 - accuracy: 0.9845\n",
      "Epoch 11/50\n",
      "25000/25000 [==============================] - 5s 208us/step - loss: 0.0397 - accuracy: 0.9862\n",
      "Epoch 12/50\n",
      "25000/25000 [==============================] - 5s 211us/step - loss: 0.0368 - accuracy: 0.9873\n",
      "Epoch 13/50\n",
      "25000/25000 [==============================] - 5s 214us/step - loss: 0.0319 - accuracy: 0.9883\n",
      "Epoch 14/50\n",
      "25000/25000 [==============================] - 5s 211us/step - loss: 0.0345 - accuracy: 0.9870\n",
      "Epoch 15/50\n",
      "25000/25000 [==============================] - 5s 210us/step - loss: 0.0343 - accuracy: 0.9882\n",
      "Epoch 16/50\n",
      "25000/25000 [==============================] - 5s 210us/step - loss: 0.0278 - accuracy: 0.9905\n",
      "Epoch 17/50\n",
      "25000/25000 [==============================] - 5s 210us/step - loss: 0.0267 - accuracy: 0.9897\n",
      "Epoch 18/50\n",
      "25000/25000 [==============================] - 5s 209us/step - loss: 0.0293 - accuracy: 0.9895\n",
      "Epoch 19/50\n",
      "25000/25000 [==============================] - 5s 219us/step - loss: 0.0288 - accuracy: 0.9901\n",
      "Epoch 20/50\n",
      "25000/25000 [==============================] - 5s 209us/step - loss: 0.0256 - accuracy: 0.9912\n",
      "Epoch 21/50\n",
      "25000/25000 [==============================] - 5s 209us/step - loss: 0.0255 - accuracy: 0.9906\n",
      "Epoch 22/50\n",
      "25000/25000 [==============================] - 5s 210us/step - loss: 0.0238 - accuracy: 0.9918\n",
      "Epoch 23/50\n",
      "25000/25000 [==============================] - 5s 210us/step - loss: 0.0219 - accuracy: 0.9932\n",
      "Epoch 24/50\n",
      "25000/25000 [==============================] - 5s 210us/step - loss: 0.0238 - accuracy: 0.9917\n",
      "Epoch 25/50\n",
      "25000/25000 [==============================] - 5s 211us/step - loss: 0.0230 - accuracy: 0.9923\n",
      "Epoch 26/50\n",
      "25000/25000 [==============================] - 5s 217us/step - loss: 0.0225 - accuracy: 0.9920\n",
      "Epoch 27/50\n",
      "25000/25000 [==============================] - 5s 210us/step - loss: 0.0200 - accuracy: 0.9934\n",
      "Epoch 28/50\n",
      "25000/25000 [==============================] - 5s 210us/step - loss: 0.0190 - accuracy: 0.9931\n",
      "Epoch 29/50\n",
      "25000/25000 [==============================] - 5s 211us/step - loss: 0.0185 - accuracy: 0.9934\n",
      "Epoch 30/50\n",
      "25000/25000 [==============================] - 6s 227us/step - loss: 0.0151 - accuracy: 0.9950\n",
      "Epoch 31/50\n",
      "25000/25000 [==============================] - 5s 217us/step - loss: 0.0173 - accuracy: 0.9942\n",
      "Epoch 32/50\n",
      "25000/25000 [==============================] - 5s 213us/step - loss: 0.0180 - accuracy: 0.9941\n",
      "Epoch 33/50\n",
      "25000/25000 [==============================] - 5s 216us/step - loss: 0.0170 - accuracy: 0.9944\n",
      "Epoch 34/50\n",
      "25000/25000 [==============================] - 5s 212us/step - loss: 0.0167 - accuracy: 0.9944\n",
      "Epoch 35/50\n",
      "25000/25000 [==============================] - 5s 219us/step - loss: 0.0150 - accuracy: 0.9946\n",
      "Epoch 36/50\n",
      "25000/25000 [==============================] - 5s 212us/step - loss: 0.0168 - accuracy: 0.9944\n",
      "Epoch 37/50\n",
      "25000/25000 [==============================] - 5s 216us/step - loss: 0.0142 - accuracy: 0.9953\n",
      "Epoch 38/50\n",
      "25000/25000 [==============================] - 5s 213us/step - loss: 0.0159 - accuracy: 0.9944\n",
      "Epoch 39/50\n",
      "25000/25000 [==============================] - 5s 216us/step - loss: 0.0129 - accuracy: 0.9955\n",
      "Epoch 40/50\n",
      "25000/25000 [==============================] - 5s 213us/step - loss: 0.0160 - accuracy: 0.9943\n",
      "Epoch 41/50\n",
      "25000/25000 [==============================] - 6s 220us/step - loss: 0.0156 - accuracy: 0.9949\n",
      "Epoch 42/50\n",
      "25000/25000 [==============================] - 6s 223us/step - loss: 0.0118 - accuracy: 0.9961\n",
      "Epoch 43/50\n",
      "25000/25000 [==============================] - 5s 215us/step - loss: 0.0129 - accuracy: 0.9954\n",
      "Epoch 44/50\n",
      "25000/25000 [==============================] - 5s 216us/step - loss: 0.0165 - accuracy: 0.9942\n",
      "Epoch 45/50\n",
      "25000/25000 [==============================] - 5s 217us/step - loss: 0.0128 - accuracy: 0.9958\n",
      "Epoch 46/50\n",
      "25000/25000 [==============================] - 5s 213us/step - loss: 0.0114 - accuracy: 0.9962\n",
      "Epoch 47/50\n",
      "25000/25000 [==============================] - 5s 216us/step - loss: 0.0127 - accuracy: 0.9955\n",
      "Epoch 48/50\n",
      "25000/25000 [==============================] - 5s 214us/step - loss: 0.0125 - accuracy: 0.9958\n",
      "Epoch 49/50\n",
      "25000/25000 [==============================] - 5s 214us/step - loss: 0.0121 - accuracy: 0.9959\n",
      "Epoch 50/50\n",
      "25000/25000 [==============================] - 5s 214us/step - loss: 0.0127 - accuracy: 0.9957\n"
     ]
    }
   ],
   "source": [
    "# TODO: Run the model. Feel free to experiment with different batch sizes and number of epochs.\n",
    "history = model.fit(x_train, y_train, nb_epoch = 50, verbose = 1)"
   ]
  },
  {
   "cell_type": "markdown",
   "metadata": {},
   "source": [
    "## 6. Evaluating the model\n",
    "This will give you the accuracy of the model, as evaluated on the testing set. Can you get something over 85%?"
   ]
  },
  {
   "cell_type": "code",
   "execution_count": 34,
   "metadata": {
    "ExecuteTime": {
     "end_time": "2020-05-11T22:17:52.134965Z",
     "start_time": "2020-05-11T22:17:51.130199Z"
    }
   },
   "outputs": [
    {
     "name": "stdout",
     "output_type": "stream",
     "text": [
      "Accuracy:  0.8430200219154358\n"
     ]
    }
   ],
   "source": [
    "score = model.evaluate(x_test, y_test, verbose=0)\n",
    "print(\"Accuracy: \", score[1])"
   ]
  },
  {
   "cell_type": "code",
   "execution_count": null,
   "metadata": {},
   "outputs": [],
   "source": []
  }
 ],
 "metadata": {
  "kernelspec": {
   "display_name": "Python 3",
   "language": "python",
   "name": "python3"
  },
  "language_info": {
   "codemirror_mode": {
    "name": "ipython",
    "version": 3
   },
   "file_extension": ".py",
   "mimetype": "text/x-python",
   "name": "python",
   "nbconvert_exporter": "python",
   "pygments_lexer": "ipython3",
   "version": "3.7.4"
  }
 },
 "nbformat": 4,
 "nbformat_minor": 2
}
